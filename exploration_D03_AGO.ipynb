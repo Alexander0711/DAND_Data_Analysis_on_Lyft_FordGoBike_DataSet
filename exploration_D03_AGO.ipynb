{
 "cells": [
  {
   "cell_type": "markdown",
   "metadata": {},
   "source": [
    "# Exploration of FordGoBike and Baywheels data from Lyft in San Francisco to elaborate growth and business oportunities \n",
    "\n",
    "## by Alex (DAND 2020)\n",
    "\n",
    "\n",
    "The project is part of the Udacity Data Analyst Nano Degree (DAND) program and aims on data visualization in both ways - exploratory and explainatory.   \n",
    "\n",
    "The project has been executed using a dataset from FordGoBike and Lyft Baywheels from the San Francisco area.   \n",
    "This file contains the exploration of the data.   \n",
    "The explanation part is covered in a separate file. At the moment of analysis, the dataset contains bike sharing rides from June 2017 till April 2020 which was automaticaly downloaded from the source.  \n",
    "Over 3 million rides are described by 13 different dimensions and datapoints.   \n",
    "The dataset contains ride-related and anonymized data only. That means, no user data or user names or personal data is content of the raw data.\n",
    "\n",
    "Each trip is anonymized and includes:\n",
    "\n",
    "Trip Duration (in seconds)  \n",
    "Start Time and Date  \n",
    "End Time and Date  \n",
    "Start Station ID  \n",
    "Start Station Name  \n",
    "Start Station Latitude  \n",
    "Start Station Longitude  \n",
    "End Station ID  \n",
    "End Station Name  \n",
    "End Station Latitude  \n",
    "End Station Longitude  \n",
    "Bike ID  \n",
    "User Type (Subscriber or Customer – “Subscriber” = Member or “Customer” = Casual)  \n",
    "\n",
    "Source of and download of the raw data: https://www.lyft.com/bikes/bay-wheels/system-data  \n"
   ]
  },
  {
   "cell_type": "code",
   "execution_count": 2,
   "metadata": {},
   "outputs": [],
   "source": [
    "#Import libraries\n",
    "import numpy as np\n",
    "import pandas as pd\n",
    "import matplotlib.pyplot as plt\n",
    "import seaborn as sb\n",
    "import requests\n",
    "from os import listdir\n",
    "from os import makedirs\n",
    "from zipfile import ZipFile\n",
    "from io import BytesIO\n",
    "from functools import reduce\n",
    "from glob import glob\n",
    "\n",
    "%matplotlib inline"
   ]
  },
  {
   "cell_type": "markdown",
   "metadata": {},
   "source": [
    "## Gathering data as automatic download from source \n",
    "\n",
    "Source: https://www.lyft.com/bikes/bay-wheels/system-data  "
   ]
  },
  {
   "cell_type": "code",
   "execution_count": 6,
   "metadata": {},
   "outputs": [],
   "source": [
    "#Create folder for the downloaded files\n",
    "dest_folder = \"download_raw_data\""
   ]
  },
  {
   "cell_type": "code",
   "execution_count": 9,
   "metadata": {},
   "outputs": [],
   "source": [
    "#List of file urls to be downloaded for years 2018, 2019 and until 03/2020 as raw data for the analysis // Status 04. June 2020\n",
    "\n",
    "download_urls = [\"https://s3.amazonaws.com/baywheels-data/201801-fordgobike-tripdata.csv.zip\",\n",
    "                 \"https://s3.amazonaws.com/baywheels-data/201802-fordgobike-tripdata.csv.zip\",\n",
    "                 \"https://s3.amazonaws.com/baywheels-data/201803-fordgobike-tripdata.csv.zip\",\n",
    "                 \"https://s3.amazonaws.com/baywheels-data/201804-fordgobike-tripdata.csv.zip\",\n",
    "                 \"https://s3.amazonaws.com/baywheels-data/201805-fordgobike-tripdata.csv.zip\",\n",
    "                 \"https://s3.amazonaws.com/baywheels-data/201806-fordgobike-tripdata.csv.zip\",\n",
    "                 \"https://s3.amazonaws.com/baywheels-data/201807-fordgobike-tripdata.csv.zip\",\n",
    "                 \"https://s3.amazonaws.com/baywheels-data/201808-fordgobike-tripdata.csv.zip\",\n",
    "                 \"https://s3.amazonaws.com/baywheels-data/201809-fordgobike-tripdata.csv.zip\",\n",
    "                 \"https://s3.amazonaws.com/baywheels-data/201810-fordgobike-tripdata.csv.zip\",\n",
    "                 \"https://s3.amazonaws.com/baywheels-data/201811-fordgobike-tripdata.csv.zip\",\n",
    "                 \"https://s3.amazonaws.com/baywheels-data/201812-fordgobike-tripdata.csv.zip\",\n",
    "                 \"https://s3.amazonaws.com/baywheels-data/201901-fordgobike-tripdata.csv.zip\",\n",
    "                 \"https://s3.amazonaws.com/baywheels-data/201902-fordgobike-tripdata.csv.zip\",\n",
    "                 \"https://s3.amazonaws.com/baywheels-data/201903-fordgobike-tripdata.csv.zip\",\n",
    "                 \"https://s3.amazonaws.com/baywheels-data/201904-fordgobike-tripdata.csv.zip\",\n",
    "                 \"https://s3.amazonaws.com/baywheels-data/201905-baywheels-tripdata.csv.zip\",\n",
    "                 \"https://s3.amazonaws.com/baywheels-data/201906-baywheels-tripdata.csv.zip\",\n",
    "                 \"https://s3.amazonaws.com/baywheels-data/201907-baywheels-tripdata.csv.zip\",\n",
    "                 \"https://s3.amazonaws.com/baywheels-data/201908-baywheels-tripdata.csv.zip\",\n",
    "                 \"https://s3.amazonaws.com/baywheels-data/201909-baywheels-tripdata.csv.zip\",\n",
    "                 \"https://s3.amazonaws.com/baywheels-data/201910-baywheels-tripdata.csv.zip\",\n",
    "                 \"https://s3.amazonaws.com/baywheels-data/201911-baywheels-tripdata.csv.zip\",\n",
    "                 \"https://s3.amazonaws.com/baywheels-data/201912-baywheels-tripdata.csv.zip\",\n",
    "                 \"https://s3.amazonaws.com/baywheels-data/202001-baywheels-tripdata.csv.zip\",\n",
    "                 \"https://s3.amazonaws.com/baywheels-data/202002-baywheels-tripdata.csv.zip\",\n",
    "                 \"https://s3.amazonaws.com/baywheels-data/202003-baywheels-tripdata.csv.zip\",\n",
    "                 ]"
   ]
  },
  {
   "cell_type": "code",
   "execution_count": 11,
   "metadata": {},
   "outputs": [],
   "source": [
    "#Download and unzip and store the raw data from the source\n",
    "for url in download_urls: \n",
    "    downloaded_response = requests.get(url)\n",
    "    path_file = dest_folder + url\n",
    "    zipped_file = ZipFile(BytesIO(downloaded_response.content))\n",
    "    zipped_file.extractall(dest_folder)\n",
    "    zipped_file.close()\n",
    "    \n",
    "# 0.91GB of data in csv format was downloaded"
   ]
  },
  {
   "cell_type": "code",
   "execution_count": 22,
   "metadata": {},
   "outputs": [],
   "source": [
    "#List of file names for loop to combine data in df\n",
    "files_raw_data = []\n",
    "files_raw_data = listdir(dest_folder)"
   ]
  },
  {
   "cell_type": "code",
   "execution_count": 23,
   "metadata": {},
   "outputs": [
    {
     "data": {
      "text/plain": [
       "['201801-fordgobike-tripdata.csv',\n",
       " '201802-fordgobike-tripdata.csv',\n",
       " '201803-fordgobike-tripdata.csv',\n",
       " '201804-fordgobike-tripdata.csv',\n",
       " '201805-fordgobike-tripdata.csv',\n",
       " '201806-fordgobike-tripdata.csv',\n",
       " '201807-fordgobike-tripdata.csv',\n",
       " '201808-fordgobike-tripdata.csv',\n",
       " '201809-fordgobike-tripdata.csv',\n",
       " '201810-fordgobike-tripdata.csv',\n",
       " '201811-fordgobike-tripdata.csv',\n",
       " '201812-fordgobike-tripdata.csv',\n",
       " '201901-fordgobike-tripdata.csv',\n",
       " '201902-fordgobike-tripdata.csv',\n",
       " '201903-fordgobike-tripdata.csv',\n",
       " '201904-fordgobike-tripdata.csv',\n",
       " '201905-baywheels-tripdata.csv',\n",
       " '201906-baywheels-tripdata.csv',\n",
       " '201907-baywheels-tripdata.csv',\n",
       " '201908-baywheels-tripdata.csv',\n",
       " '201909-baywheels-tripdata.csv',\n",
       " '201910-baywheels-tripdata.csv',\n",
       " '201911-baywheels-tripdata.csv',\n",
       " '201912-baywheels-tripdata.csv',\n",
       " '202001-baywheels-tripdata.csv',\n",
       " '202002-baywheels-tripdata.csv',\n",
       " '202003-baywheels-tripdata.csv']"
      ]
     },
     "execution_count": 23,
     "metadata": {},
     "output_type": "execute_result"
    }
   ],
   "source": [
    "#Check List of file names\n",
    "files_raw_data"
   ]
  },
  {
   "cell_type": "code",
   "execution_count": 24,
   "metadata": {},
   "outputs": [
    {
     "data": {
      "text/html": [
       "<div>\n",
       "<style scoped>\n",
       "    .dataframe tbody tr th:only-of-type {\n",
       "        vertical-align: middle;\n",
       "    }\n",
       "\n",
       "    .dataframe tbody tr th {\n",
       "        vertical-align: top;\n",
       "    }\n",
       "\n",
       "    .dataframe thead th {\n",
       "        text-align: right;\n",
       "    }\n",
       "</style>\n",
       "<table border=\"1\" class=\"dataframe\">\n",
       "  <thead>\n",
       "    <tr style=\"text-align: right;\">\n",
       "      <th></th>\n",
       "      <th>duration_sec</th>\n",
       "      <th>start_time</th>\n",
       "      <th>end_time</th>\n",
       "      <th>start_station_id</th>\n",
       "      <th>start_station_name</th>\n",
       "      <th>start_station_latitude</th>\n",
       "      <th>start_station_longitude</th>\n",
       "      <th>end_station_id</th>\n",
       "      <th>end_station_name</th>\n",
       "      <th>end_station_latitude</th>\n",
       "      <th>end_station_longitude</th>\n",
       "      <th>bike_id</th>\n",
       "      <th>user_type</th>\n",
       "      <th>rental_access_method</th>\n",
       "    </tr>\n",
       "  </thead>\n",
       "  <tbody>\n",
       "    <tr>\n",
       "      <th>0</th>\n",
       "      <td>35187</td>\n",
       "      <td>2020-03-31 20:42:10.0790</td>\n",
       "      <td>2020-04-01 06:28:37.8440</td>\n",
       "      <td>462.0</td>\n",
       "      <td>Cruise Terminal at Pier 27</td>\n",
       "      <td>37.804648</td>\n",
       "      <td>-122.402087</td>\n",
       "      <td>24.0</td>\n",
       "      <td>Spear St at Folsom St</td>\n",
       "      <td>37.789677</td>\n",
       "      <td>-122.390428</td>\n",
       "      <td>10982</td>\n",
       "      <td>Customer</td>\n",
       "      <td>NaN</td>\n",
       "    </tr>\n",
       "    <tr>\n",
       "      <th>1</th>\n",
       "      <td>14568</td>\n",
       "      <td>2020-03-31 22:45:25.5010</td>\n",
       "      <td>2020-04-01 02:48:13.7730</td>\n",
       "      <td>42.0</td>\n",
       "      <td>San Francisco City Hall (Polk St at Grove St)</td>\n",
       "      <td>37.778650</td>\n",
       "      <td>-122.418230</td>\n",
       "      <td>370.0</td>\n",
       "      <td>Jones St at Post St</td>\n",
       "      <td>37.787327</td>\n",
       "      <td>-122.413278</td>\n",
       "      <td>12617</td>\n",
       "      <td>Customer</td>\n",
       "      <td>NaN</td>\n",
       "    </tr>\n",
       "    <tr>\n",
       "      <th>2</th>\n",
       "      <td>35990</td>\n",
       "      <td>2020-03-31 15:08:22.3310</td>\n",
       "      <td>2020-04-01 01:08:12.9900</td>\n",
       "      <td>391.0</td>\n",
       "      <td>1st St at Younger Ave</td>\n",
       "      <td>37.355030</td>\n",
       "      <td>-121.904436</td>\n",
       "      <td>397.0</td>\n",
       "      <td>Gish Rd at 1st St</td>\n",
       "      <td>37.361867</td>\n",
       "      <td>-121.909315</td>\n",
       "      <td>12812</td>\n",
       "      <td>Customer</td>\n",
       "      <td>NaN</td>\n",
       "    </tr>\n",
       "    <tr>\n",
       "      <th>3</th>\n",
       "      <td>1068</td>\n",
       "      <td>2020-03-31 23:55:00.4260</td>\n",
       "      <td>2020-04-01 00:12:49.0200</td>\n",
       "      <td>456.0</td>\n",
       "      <td>Arguello Blvd at Geary Blvd</td>\n",
       "      <td>37.781468</td>\n",
       "      <td>-122.458806</td>\n",
       "      <td>107.0</td>\n",
       "      <td>17th St at Dolores St</td>\n",
       "      <td>37.763015</td>\n",
       "      <td>-122.426497</td>\n",
       "      <td>12955</td>\n",
       "      <td>Customer</td>\n",
       "      <td>NaN</td>\n",
       "    </tr>\n",
       "    <tr>\n",
       "      <th>4</th>\n",
       "      <td>3300</td>\n",
       "      <td>2020-03-31 23:00:55.6410</td>\n",
       "      <td>2020-03-31 23:55:56.6110</td>\n",
       "      <td>6.0</td>\n",
       "      <td>The Embarcadero at Sansome St</td>\n",
       "      <td>37.804770</td>\n",
       "      <td>-122.403234</td>\n",
       "      <td>24.0</td>\n",
       "      <td>Spear St at Folsom St</td>\n",
       "      <td>37.789677</td>\n",
       "      <td>-122.390428</td>\n",
       "      <td>13050</td>\n",
       "      <td>Customer</td>\n",
       "      <td>NaN</td>\n",
       "    </tr>\n",
       "  </tbody>\n",
       "</table>\n",
       "</div>"
      ],
      "text/plain": [
       "   duration_sec                start_time                  end_time  \\\n",
       "0         35187  2020-03-31 20:42:10.0790  2020-04-01 06:28:37.8440   \n",
       "1         14568  2020-03-31 22:45:25.5010  2020-04-01 02:48:13.7730   \n",
       "2         35990  2020-03-31 15:08:22.3310  2020-04-01 01:08:12.9900   \n",
       "3          1068  2020-03-31 23:55:00.4260  2020-04-01 00:12:49.0200   \n",
       "4          3300  2020-03-31 23:00:55.6410  2020-03-31 23:55:56.6110   \n",
       "\n",
       "   start_station_id                             start_station_name  \\\n",
       "0             462.0                     Cruise Terminal at Pier 27   \n",
       "1              42.0  San Francisco City Hall (Polk St at Grove St)   \n",
       "2             391.0                          1st St at Younger Ave   \n",
       "3             456.0                    Arguello Blvd at Geary Blvd   \n",
       "4               6.0                  The Embarcadero at Sansome St   \n",
       "\n",
       "   start_station_latitude  start_station_longitude  end_station_id  \\\n",
       "0               37.804648              -122.402087            24.0   \n",
       "1               37.778650              -122.418230           370.0   \n",
       "2               37.355030              -121.904436           397.0   \n",
       "3               37.781468              -122.458806           107.0   \n",
       "4               37.804770              -122.403234            24.0   \n",
       "\n",
       "        end_station_name  end_station_latitude  end_station_longitude  \\\n",
       "0  Spear St at Folsom St             37.789677            -122.390428   \n",
       "1    Jones St at Post St             37.787327            -122.413278   \n",
       "2      Gish Rd at 1st St             37.361867            -121.909315   \n",
       "3  17th St at Dolores St             37.763015            -122.426497   \n",
       "4  Spear St at Folsom St             37.789677            -122.390428   \n",
       "\n",
       "   bike_id user_type rental_access_method  \n",
       "0    10982  Customer                  NaN  \n",
       "1    12617  Customer                  NaN  \n",
       "2    12812  Customer                  NaN  \n",
       "3    12955  Customer                  NaN  \n",
       "4    13050  Customer                  NaN  "
      ]
     },
     "execution_count": 24,
     "metadata": {},
     "output_type": "execute_result"
    }
   ],
   "source": [
    "df = pd.read_csv(f'{dest_folder}/202003-baywheels-tripdata.csv')\n",
    "\n",
    "df.head()"
   ]
  },
  {
   "cell_type": "code",
   "execution_count": 25,
   "metadata": {},
   "outputs": [
    {
     "name": "stdout",
     "output_type": "stream",
     "text": [
      "<class 'pandas.core.frame.DataFrame'>\n",
      "RangeIndex: 176799 entries, 0 to 176798\n",
      "Data columns (total 14 columns):\n",
      "duration_sec               176799 non-null int64\n",
      "start_time                 176799 non-null object\n",
      "end_time                   176799 non-null object\n",
      "start_station_id           110696 non-null float64\n",
      "start_station_name         111349 non-null object\n",
      "start_station_latitude     176799 non-null float64\n",
      "start_station_longitude    176799 non-null float64\n",
      "end_station_id             111097 non-null float64\n",
      "end_station_name           111794 non-null object\n",
      "end_station_latitude       176799 non-null float64\n",
      "end_station_longitude      176799 non-null float64\n",
      "bike_id                    176799 non-null int64\n",
      "user_type                  176799 non-null object\n",
      "rental_access_method       114269 non-null object\n",
      "dtypes: float64(6), int64(2), object(6)\n",
      "memory usage: 18.9+ MB\n"
     ]
    }
   ],
   "source": [
    "df.info()"
   ]
  },
  {
   "cell_type": "markdown",
   "metadata": {},
   "source": [
    "## Parse the csv files with pandas read_csv"
   ]
  },
  {
   "cell_type": "markdown",
   "metadata": {},
   "source": [
    "The df.info() function helps us to parse the CSV files in a dataframe. \n",
    "\n",
    "We will use DTypes as a parameter of read_csv to guess and clean the datatype of every column.\n",
    "\n",
    "We start with a new list of files."
   ]
  },
  {
   "cell_type": "code",
   "execution_count": 29,
   "metadata": {},
   "outputs": [],
   "source": [
    "list_csv = []\n",
    "\n",
    "fileList = glob(f'{dest_folder}/*.csv')\n",
    "for file_name in fileList:\n",
    "    list_csv.append(\n",
    "        pd.read_csv(\n",
    "            file_name, \n",
    "            dtype={\n",
    "                'duration_sec':int, \n",
    "                'start_time':str,\n",
    "                'end_time':str,\n",
    "                'start_station_id':str,\n",
    "                'start_station_name':str,\n",
    "                'start_station_latitude':float,\n",
    "                'start_station_longitude':float,\n",
    "                'end_station_id':str,\n",
    "                'end_station_name':str,\n",
    "                'end_station_latitude':float,\n",
    "                'end_station_longitude':float,\n",
    "                'bike_id':str,\n",
    "                'user_type:':str,\n",
    "                'rental_access_method':str\n",
    "            }\n",
    "        )\n",
    "    )\n",
    "df_bike = pd.concat(list_csv, sort=False)"
   ]
  },
  {
   "cell_type": "markdown",
   "metadata": {},
   "source": [
    "## Assessing Data"
   ]
  },
  {
   "cell_type": "code",
   "execution_count": 30,
   "metadata": {},
   "outputs": [
    {
     "name": "stdout",
     "output_type": "stream",
     "text": [
      "<class 'pandas.core.frame.DataFrame'>\n",
      "Int64Index: 5275711 entries, 0 to 176798\n",
      "Data columns (total 15 columns):\n",
      "duration_sec               int32\n",
      "start_time                 object\n",
      "end_time                   object\n",
      "start_station_id           object\n",
      "start_station_name         object\n",
      "start_station_latitude     float64\n",
      "start_station_longitude    float64\n",
      "end_station_id             object\n",
      "end_station_name           object\n",
      "end_station_latitude       float64\n",
      "end_station_longitude      float64\n",
      "bike_id                    object\n",
      "user_type                  object\n",
      "bike_share_for_all_trip    object\n",
      "rental_access_method       object\n",
      "dtypes: float64(4), int32(1), object(10)\n",
      "memory usage: 623.9+ MB\n"
     ]
    }
   ],
   "source": [
    "df_bike.info()"
   ]
  },
  {
   "cell_type": "code",
   "execution_count": 32,
   "metadata": {},
   "outputs": [
    {
     "data": {
      "text/plain": [
       "(5275711, 15)"
      ]
     },
     "execution_count": 32,
     "metadata": {},
     "output_type": "execute_result"
    }
   ],
   "source": [
    "df_bike.shape"
   ]
  },
  {
   "cell_type": "code",
   "execution_count": 33,
   "metadata": {},
   "outputs": [
    {
     "data": {
      "text/plain": [
       "duration_sec                 5793\n",
       "start_time                 171095\n",
       "end_time                   171051\n",
       "start_station_id              443\n",
       "start_station_name            447\n",
       "start_station_latitude      61656\n",
       "start_station_longitude     62454\n",
       "end_station_id                443\n",
       "end_station_name              447\n",
       "end_station_latitude        61440\n",
       "end_station_longitude       62292\n",
       "bike_id                      8430\n",
       "user_type                       2\n",
       "rental_access_method            2\n",
       "dtype: int64"
      ]
     },
     "execution_count": 33,
     "metadata": {},
     "output_type": "execute_result"
    }
   ],
   "source": [
    "df.nunique()"
   ]
  },
  {
   "cell_type": "markdown",
   "metadata": {},
   "source": [
    "### Check and delete duplicates in the df"
   ]
  },
  {
   "cell_type": "code",
   "execution_count": 34,
   "metadata": {},
   "outputs": [
    {
     "data": {
      "text/plain": [
       "7512"
      ]
     },
     "execution_count": 34,
     "metadata": {},
     "output_type": "execute_result"
    }
   ],
   "source": [
    "sum(df_bike.duplicated())"
   ]
  },
  {
   "cell_type": "markdown",
   "metadata": {},
   "source": [
    "### Check for mission values and generate overview of missing values"
   ]
  },
  {
   "cell_type": "code",
   "execution_count": 36,
   "metadata": {},
   "outputs": [
    {
     "name": "stdout",
     "output_type": "stream",
     "text": [
      "Missing values in column: duration_sec\n",
      "0\n",
      "Missing values in column: start_time\n",
      "0\n",
      "Missing values in column: end_time\n",
      "0\n",
      "Missing values in column: start_station_id\n",
      "578807\n",
      "Missing values in column: start_station_name\n",
      "576973\n",
      "Missing values in column: start_station_latitude\n",
      "0\n",
      "Missing values in column: start_station_longitude\n",
      "0\n",
      "Missing values in column: end_station_id\n",
      "580455\n",
      "Missing values in column: end_station_name\n",
      "578629\n",
      "Missing values in column: end_station_latitude\n",
      "0\n",
      "Missing values in column: end_station_longitude\n",
      "0\n",
      "Missing values in column: bike_id\n",
      "0\n",
      "Missing values in column: user_type\n",
      "0\n",
      "Missing values in column: bike_share_for_all_trip\n",
      "1148266\n",
      "Missing values in column: rental_access_method\n",
      "4537015\n"
     ]
    }
   ],
   "source": [
    "for column in df_bike:\n",
    "    print(\"Missing values in column: \" + str(column))\n",
    "    print(len(df_bike) - sum(df_bike[column].notnull()))"
   ]
  },
  {
   "cell_type": "markdown",
   "metadata": {},
   "source": [
    "## Data Cleaning"
   ]
  },
  {
   "cell_type": "code",
   "execution_count": 46,
   "metadata": {},
   "outputs": [
    {
     "name": "stdout",
     "output_type": "stream",
     "text": [
      "<class 'pandas.core.frame.DataFrame'>\n",
      "RangeIndex: 5275711 entries, 0 to 5275710\n",
      "Data columns (total 15 columns):\n",
      "duration_sec               int64\n",
      "start_time                 object\n",
      "end_time                   object\n",
      "start_station_id           float64\n",
      "start_station_name         object\n",
      "start_station_latitude     float64\n",
      "start_station_longitude    float64\n",
      "end_station_id             float64\n",
      "end_station_name           object\n",
      "end_station_latitude       float64\n",
      "end_station_longitude      float64\n",
      "bike_id                    int64\n",
      "user_type                  object\n",
      "bike_share_for_all_trip    object\n",
      "rental_access_method       object\n",
      "dtypes: float64(6), int64(2), object(7)\n",
      "memory usage: 603.8+ MB\n"
     ]
    }
   ],
   "source": [
    "df_bike.info()"
   ]
  },
  {
   "cell_type": "markdown",
   "metadata": {},
   "source": [
    "1a. Describe: Converting `start_time`, `end_time` column from `string` to `datetime`"
   ]
  },
  {
   "cell_type": "code",
   "execution_count": 47,
   "metadata": {},
   "outputs": [],
   "source": [
    "#1b: code\n",
    "\n",
    "df_bike['start_time_dt'] = pd.to_datetime(df_bike['start_time'])\n",
    "df_bike['end_time_dt'] = pd.to_datetime(df_bike['end_time'])"
   ]
  },
  {
   "cell_type": "code",
   "execution_count": 49,
   "metadata": {},
   "outputs": [
    {
     "name": "stdout",
     "output_type": "stream",
     "text": [
      "<class 'pandas.core.frame.DataFrame'>\n",
      "RangeIndex: 5275711 entries, 0 to 5275710\n",
      "Data columns (total 17 columns):\n",
      "duration_sec               int64\n",
      "start_time                 object\n",
      "end_time                   object\n",
      "start_station_id           float64\n",
      "start_station_name         object\n",
      "start_station_latitude     float64\n",
      "start_station_longitude    float64\n",
      "end_station_id             float64\n",
      "end_station_name           object\n",
      "end_station_latitude       float64\n",
      "end_station_longitude      float64\n",
      "bike_id                    int64\n",
      "user_type                  object\n",
      "bike_share_for_all_trip    object\n",
      "rental_access_method       object\n",
      "start_time_dt              datetime64[ns]\n",
      "end_time_dt                datetime64[ns]\n",
      "dtypes: datetime64[ns](2), float64(6), int64(2), object(7)\n",
      "memory usage: 684.3+ MB\n"
     ]
    }
   ],
   "source": [
    "#1c: Test and Check\n",
    "\n",
    "df_bike.info()"
   ]
  },
  {
   "cell_type": "markdown",
   "metadata": {},
   "source": [
    "2a. Describe: Split columns `start_time` and `end_time` to `day_of_the_week` (aka `dow`), `month`, `year`, `day`, `hour`, `minute` columns"
   ]
  },
  {
   "cell_type": "code",
   "execution_count": 50,
   "metadata": {},
   "outputs": [],
   "source": [
    "#2b: Code\n",
    "\n",
    "df_bike['start_time_year'] = df_bike['start_time_dt'].dt.year.astype('int')\n",
    "df_bike['end_time_year']   = df_bike['end_time_dt'].dt.year.astype('int')\n",
    "\n",
    "df_bike['start_time_month'] = df_bike['start_time_dt'].dt.month.astype('int')\n",
    "df_bike['end_time_month']   = df_bike['end_time_dt'].dt.month.astype('int')\n",
    "\n",
    "df_bike['start_time_yearmonth'] = df_bike['start_time_dt'].dt.to_period('M')\n",
    "df_bike['end_time_yearmonth']   = df_bike['end_time_dt'].dt.to_period('M')\n",
    "\n",
    "df_bike['start_time_day'] = df_bike['start_time_dt'].dt.day.astype('int')\n",
    "df_bike['end_time_day']   = df_bike['end_time_dt'].dt.day.astype('int')\n",
    "\n",
    "df_bike['start_time_hour'] = df_bike['start_time_dt'].dt.hour.astype('int')\n",
    "df_bike['end_time_hour']   = df_bike['end_time_dt'].dt.hour.astype('int')\n",
    "\n",
    "df_bike['start_time_minutes'] = df_bike['start_time_dt'].dt.minute.astype('int')\n",
    "df_bike['end_time_minutes']   = df_bike['end_time_dt'].dt.minute.astype('int')\n",
    "\n",
    "df_bike['start_time_dow'] = df_bike['start_time_dt'].dt.day_name()\n",
    "df_bike['end_time_dow']   = df_bike['end_time_dt'].dt.day_name()"
   ]
  },
  {
   "cell_type": "code",
   "execution_count": 103,
   "metadata": {},
   "outputs": [
    {
     "name": "stdout",
     "output_type": "stream",
     "text": [
      "<class 'pandas.core.frame.DataFrame'>\n",
      "RangeIndex: 5275711 entries, 0 to 5275710\n",
      "Data columns (total 33 columns):\n",
      "duration_sec               int64\n",
      "start_time                 object\n",
      "end_time                   object\n",
      "start_station_id           float64\n",
      "start_station_name         object\n",
      "start_station_latitude     float64\n",
      "start_station_longitude    float64\n",
      "end_station_id             float64\n",
      "end_station_name           object\n",
      "end_station_latitude       float64\n",
      "end_station_longitude      float64\n",
      "bike_id                    int64\n",
      "user_type                  object\n",
      "bike_share_for_all_trip    object\n",
      "rental_access_method       object\n",
      "start_time_dt              object\n",
      "end_time_dt                object\n",
      "start_time_year            int64\n",
      "end_time_year              int64\n",
      "start_time_month           int64\n",
      "end_time_month             int64\n",
      "start_time_yearmonth       object\n",
      "end_time_yearmonth         object\n",
      "start_time_day             category\n",
      "end_time_day               int64\n",
      "start_time_hour            int64\n",
      "end_time_hour              int64\n",
      "start_time_minutes         int64\n",
      "end_time_minutes           int64\n",
      "start_time_dow             category\n",
      "end_time_dow               object\n",
      "duration_grouping          int64\n",
      "duration_sec_log           float64\n",
      "dtypes: category(2), float64(7), int64(12), object(12)\n",
      "memory usage: 1.2+ GB\n"
     ]
    }
   ],
   "source": [
    "#2c: Test and Check\n",
    "\n",
    "df_bike.info()"
   ]
  },
  {
   "cell_type": "markdown",
   "metadata": {},
   "source": [
    "## Data Tidyness"
   ]
  },
  {
   "cell_type": "code",
   "execution_count": 51,
   "metadata": {},
   "outputs": [
    {
     "data": {
      "text/html": [
       "<div>\n",
       "<style scoped>\n",
       "    .dataframe tbody tr th:only-of-type {\n",
       "        vertical-align: middle;\n",
       "    }\n",
       "\n",
       "    .dataframe tbody tr th {\n",
       "        vertical-align: top;\n",
       "    }\n",
       "\n",
       "    .dataframe thead th {\n",
       "        text-align: right;\n",
       "    }\n",
       "</style>\n",
       "<table border=\"1\" class=\"dataframe\">\n",
       "  <thead>\n",
       "    <tr style=\"text-align: right;\">\n",
       "      <th></th>\n",
       "      <th>duration_sec</th>\n",
       "      <th>start_time</th>\n",
       "      <th>end_time</th>\n",
       "      <th>start_station_id</th>\n",
       "      <th>start_station_name</th>\n",
       "      <th>start_station_latitude</th>\n",
       "      <th>start_station_longitude</th>\n",
       "      <th>end_station_id</th>\n",
       "      <th>end_station_name</th>\n",
       "      <th>end_station_latitude</th>\n",
       "      <th>...</th>\n",
       "      <th>end_time_yearmonth</th>\n",
       "      <th>start_time_day</th>\n",
       "      <th>end_time_day</th>\n",
       "      <th>start_time_hour</th>\n",
       "      <th>end_time_hour</th>\n",
       "      <th>start_time_minutes</th>\n",
       "      <th>end_time_minutes</th>\n",
       "      <th>start_time_dow</th>\n",
       "      <th>end_time_dow</th>\n",
       "      <th>duration_grouping</th>\n",
       "    </tr>\n",
       "  </thead>\n",
       "  <tbody>\n",
       "    <tr>\n",
       "      <th>2628861</th>\n",
       "      <td>964</td>\n",
       "      <td>2019-04-11 15:16:19.8330</td>\n",
       "      <td>2019-04-11 15:32:24.0640</td>\n",
       "      <td>22.0</td>\n",
       "      <td>Howard St at Beale St</td>\n",
       "      <td>37.789756</td>\n",
       "      <td>-122.394643</td>\n",
       "      <td>91.0</td>\n",
       "      <td>Berry St at King St</td>\n",
       "      <td>37.771762</td>\n",
       "      <td>...</td>\n",
       "      <td>2019-04</td>\n",
       "      <td>11</td>\n",
       "      <td>11</td>\n",
       "      <td>15</td>\n",
       "      <td>15</td>\n",
       "      <td>16</td>\n",
       "      <td>32</td>\n",
       "      <td>Thursday</td>\n",
       "      <td>Thursday</td>\n",
       "      <td>1000</td>\n",
       "    </tr>\n",
       "    <tr>\n",
       "      <th>2931812</th>\n",
       "      <td>262</td>\n",
       "      <td>2019-06-28 05:30:05.8940</td>\n",
       "      <td>2019-06-28 05:34:28.1780</td>\n",
       "      <td>61.0</td>\n",
       "      <td>Howard St at 8th St</td>\n",
       "      <td>37.776513</td>\n",
       "      <td>-122.411306</td>\n",
       "      <td>5.0</td>\n",
       "      <td>Powell St BART Station (Market St at 5th St)</td>\n",
       "      <td>37.783899</td>\n",
       "      <td>...</td>\n",
       "      <td>2019-06</td>\n",
       "      <td>28</td>\n",
       "      <td>28</td>\n",
       "      <td>5</td>\n",
       "      <td>5</td>\n",
       "      <td>30</td>\n",
       "      <td>34</td>\n",
       "      <td>Friday</td>\n",
       "      <td>Friday</td>\n",
       "      <td>300</td>\n",
       "    </tr>\n",
       "    <tr>\n",
       "      <th>1088537</th>\n",
       "      <td>769</td>\n",
       "      <td>2018-08-20 20:51:58.0470</td>\n",
       "      <td>2018-08-20 21:04:47.8380</td>\n",
       "      <td>181.0</td>\n",
       "      <td>Grand Ave at Webster St</td>\n",
       "      <td>37.811377</td>\n",
       "      <td>-122.265192</td>\n",
       "      <td>200.0</td>\n",
       "      <td>2nd Ave at E 18th St</td>\n",
       "      <td>37.800214</td>\n",
       "      <td>...</td>\n",
       "      <td>2018-08</td>\n",
       "      <td>20</td>\n",
       "      <td>20</td>\n",
       "      <td>20</td>\n",
       "      <td>21</td>\n",
       "      <td>51</td>\n",
       "      <td>4</td>\n",
       "      <td>Monday</td>\n",
       "      <td>Monday</td>\n",
       "      <td>800</td>\n",
       "    </tr>\n",
       "    <tr>\n",
       "      <th>2721752</th>\n",
       "      <td>453</td>\n",
       "      <td>2019-04-02 12:26:16.7690</td>\n",
       "      <td>2019-04-02 12:33:50.0520</td>\n",
       "      <td>309.0</td>\n",
       "      <td>San Jose City Hall</td>\n",
       "      <td>37.337391</td>\n",
       "      <td>-121.886995</td>\n",
       "      <td>304.0</td>\n",
       "      <td>Jackson St at 5th St</td>\n",
       "      <td>37.348759</td>\n",
       "      <td>...</td>\n",
       "      <td>2019-04</td>\n",
       "      <td>2</td>\n",
       "      <td>2</td>\n",
       "      <td>12</td>\n",
       "      <td>12</td>\n",
       "      <td>26</td>\n",
       "      <td>33</td>\n",
       "      <td>Tuesday</td>\n",
       "      <td>Tuesday</td>\n",
       "      <td>500</td>\n",
       "    </tr>\n",
       "    <tr>\n",
       "      <th>2288100</th>\n",
       "      <td>388</td>\n",
       "      <td>2019-03-26 13:34:53.1960</td>\n",
       "      <td>2019-03-26 13:41:21.6190</td>\n",
       "      <td>6.0</td>\n",
       "      <td>The Embarcadero at Sansome St</td>\n",
       "      <td>37.804770</td>\n",
       "      <td>-122.403234</td>\n",
       "      <td>371.0</td>\n",
       "      <td>Lombard St at Columbus Ave</td>\n",
       "      <td>37.802746</td>\n",
       "      <td>...</td>\n",
       "      <td>2019-03</td>\n",
       "      <td>26</td>\n",
       "      <td>26</td>\n",
       "      <td>13</td>\n",
       "      <td>13</td>\n",
       "      <td>34</td>\n",
       "      <td>41</td>\n",
       "      <td>Tuesday</td>\n",
       "      <td>Tuesday</td>\n",
       "      <td>400</td>\n",
       "    </tr>\n",
       "  </tbody>\n",
       "</table>\n",
       "<p>5 rows × 32 columns</p>\n",
       "</div>"
      ],
      "text/plain": [
       "         duration_sec                start_time                  end_time  \\\n",
       "2628861           964  2019-04-11 15:16:19.8330  2019-04-11 15:32:24.0640   \n",
       "2931812           262  2019-06-28 05:30:05.8940  2019-06-28 05:34:28.1780   \n",
       "1088537           769  2018-08-20 20:51:58.0470  2018-08-20 21:04:47.8380   \n",
       "2721752           453  2019-04-02 12:26:16.7690  2019-04-02 12:33:50.0520   \n",
       "2288100           388  2019-03-26 13:34:53.1960  2019-03-26 13:41:21.6190   \n",
       "\n",
       "         start_station_id             start_station_name  \\\n",
       "2628861              22.0          Howard St at Beale St   \n",
       "2931812              61.0            Howard St at 8th St   \n",
       "1088537             181.0        Grand Ave at Webster St   \n",
       "2721752             309.0             San Jose City Hall   \n",
       "2288100               6.0  The Embarcadero at Sansome St   \n",
       "\n",
       "         start_station_latitude  start_station_longitude  end_station_id  \\\n",
       "2628861               37.789756              -122.394643            91.0   \n",
       "2931812               37.776513              -122.411306             5.0   \n",
       "1088537               37.811377              -122.265192           200.0   \n",
       "2721752               37.337391              -121.886995           304.0   \n",
       "2288100               37.804770              -122.403234           371.0   \n",
       "\n",
       "                                     end_station_name  end_station_latitude  \\\n",
       "2628861                           Berry St at King St             37.771762   \n",
       "2931812  Powell St BART Station (Market St at 5th St)             37.783899   \n",
       "1088537                          2nd Ave at E 18th St             37.800214   \n",
       "2721752                          Jackson St at 5th St             37.348759   \n",
       "2288100                    Lombard St at Columbus Ave             37.802746   \n",
       "\n",
       "         ...  end_time_yearmonth  start_time_day end_time_day start_time_hour  \\\n",
       "2628861  ...             2019-04              11           11              15   \n",
       "2931812  ...             2019-06              28           28               5   \n",
       "1088537  ...             2018-08              20           20              20   \n",
       "2721752  ...             2019-04               2            2              12   \n",
       "2288100  ...             2019-03              26           26              13   \n",
       "\n",
       "        end_time_hour start_time_minutes end_time_minutes  start_time_dow  \\\n",
       "2628861            15                 16               32        Thursday   \n",
       "2931812             5                 30               34          Friday   \n",
       "1088537            21                 51                4          Monday   \n",
       "2721752            12                 26               33         Tuesday   \n",
       "2288100            13                 34               41         Tuesday   \n",
       "\n",
       "         end_time_dow  duration_grouping  \n",
       "2628861      Thursday               1000  \n",
       "2931812        Friday                300  \n",
       "1088537        Monday                800  \n",
       "2721752       Tuesday                500  \n",
       "2288100       Tuesday                400  \n",
       "\n",
       "[5 rows x 32 columns]"
      ]
     },
     "execution_count": 51,
     "metadata": {},
     "output_type": "execute_result"
    }
   ],
   "source": [
    "#Creat a grouping for ride duration to maybe use later\n",
    "duration_bins = np.arange(0, df_bike['duration_sec'].max() + 100, 100)\n",
    "\n",
    "df_bike['duration_grouping'] = pd.cut(df_bike['duration_sec'], duration_bins, labels=duration_bins[1:], right=False)\n",
    "df_bike.sample(5)"
   ]
  },
  {
   "cell_type": "markdown",
   "metadata": {},
   "source": [
    "### Strukture of the dataset"
   ]
  },
  {
   "cell_type": "code",
   "execution_count": 52,
   "metadata": {},
   "outputs": [
    {
     "name": "stdout",
     "output_type": "stream",
     "text": [
      "<class 'pandas.core.frame.DataFrame'>\n",
      "RangeIndex: 5275711 entries, 0 to 5275710\n",
      "Data columns (total 32 columns):\n",
      "duration_sec               int64\n",
      "start_time                 object\n",
      "end_time                   object\n",
      "start_station_id           float64\n",
      "start_station_name         object\n",
      "start_station_latitude     float64\n",
      "start_station_longitude    float64\n",
      "end_station_id             float64\n",
      "end_station_name           object\n",
      "end_station_latitude       float64\n",
      "end_station_longitude      float64\n",
      "bike_id                    int64\n",
      "user_type                  object\n",
      "bike_share_for_all_trip    object\n",
      "rental_access_method       object\n",
      "start_time_dt              datetime64[ns]\n",
      "end_time_dt                datetime64[ns]\n",
      "start_time_year            int32\n",
      "end_time_year              int32\n",
      "start_time_month           int32\n",
      "end_time_month             int32\n",
      "start_time_yearmonth       period[M]\n",
      "end_time_yearmonth         period[M]\n",
      "start_time_day             int32\n",
      "end_time_day               int32\n",
      "start_time_hour            int32\n",
      "end_time_hour              int32\n",
      "start_time_minutes         int32\n",
      "end_time_minutes           int32\n",
      "start_time_dow             object\n",
      "end_time_dow               object\n",
      "duration_grouping          category\n",
      "dtypes: category(1), datetime64[ns](2), float64(6), int32(10), int64(2), object(9), period[M](2)\n",
      "memory usage: 1.0+ GB\n"
     ]
    }
   ],
   "source": [
    "df_bike.info()"
   ]
  },
  {
   "cell_type": "markdown",
   "metadata": {},
   "source": [
    "### Save df_bike to csv file"
   ]
  },
  {
   "cell_type": "code",
   "execution_count": 55,
   "metadata": {},
   "outputs": [],
   "source": [
    "df_bike.to_csv(\"bikesharing_combined_all_data.csv\", header=True, index=False)"
   ]
  },
  {
   "cell_type": "markdown",
   "metadata": {},
   "source": [
    "The data 2018 until March 2020 is now saved in the csv file for further work on assessing the data.  \n",
    "Ths size of the csv file is 1,56GB."
   ]
  },
  {
   "cell_type": "markdown",
   "metadata": {},
   "source": [
    "### What is the structure of your dataset?\n",
    "\n",
    "The dataset has ~5.2 million entries in rows and 15 columns.  \n",
    "Each row is a bike ride or bike rental in the period of January 2018 till March 2020.  \n",
    "The dataset has numerical and categorical data:  \n",
    "1) Categorical e.g. station names, user type (subscriber or casual user),...  \n",
    "2) Numerical e.g. trips duration, start and end timestamps, stations as numeric latitude and longitude  \n",
    "3) stations and bikes have unique ID  \n",
    "\n",
    "There are no duplicates in the dataset, but some data is missing. \n",
    "\n",
    "### What is/are the main feature(s) of interest in your dataset?\n",
    "\n",
    "1. Usage of bike sharing and bike rental \n",
    "    - number of overall rides\n",
    "    - duration \n",
    "    - duration per ride\n",
    "    - ...  \n",
    "          \n",
    "2. User \n",
    "    - are there groups\n",
    "    - user type\n",
    "    - ...  \n",
    "      \n",
    "3. business impact and opportunities\n",
    "    - potential growth of user base or number of rides \n",
    "    - business growth due to new or better stations\n",
    "    \n",
    "\n",
    "### What features in the dataset do you think will help support your investigation into your feature(s) of interest?\n",
    "\n",
    "1. Combination of date from user and ride duration\n",
    "2. Start and end station in combination with ride frequency \n",
    "3. Usage of bike sharing and renting per station as quota \n"
   ]
  },
  {
   "cell_type": "markdown",
   "metadata": {},
   "source": [
    "## Univariate Exploration\n"
   ]
  },
  {
   "cell_type": "code",
   "execution_count": 3,
   "metadata": {},
   "outputs": [
    {
     "name": "stderr",
     "output_type": "stream",
     "text": [
      "C:\\Users\\dtc106744\\AppData\\Local\\Continuum\\anaconda3\\lib\\site-packages\\IPython\\core\\interactiveshell.py:3057: DtypeWarning: Columns (4,13,14) have mixed types. Specify dtype option on import or set low_memory=False.\n",
      "  interactivity=interactivity, compiler=compiler, result=result)\n"
     ]
    },
    {
     "data": {
      "text/html": [
       "<div>\n",
       "<style scoped>\n",
       "    .dataframe tbody tr th:only-of-type {\n",
       "        vertical-align: middle;\n",
       "    }\n",
       "\n",
       "    .dataframe tbody tr th {\n",
       "        vertical-align: top;\n",
       "    }\n",
       "\n",
       "    .dataframe thead th {\n",
       "        text-align: right;\n",
       "    }\n",
       "</style>\n",
       "<table border=\"1\" class=\"dataframe\">\n",
       "  <thead>\n",
       "    <tr style=\"text-align: right;\">\n",
       "      <th></th>\n",
       "      <th>duration_sec</th>\n",
       "      <th>start_time</th>\n",
       "      <th>end_time</th>\n",
       "      <th>start_station_id</th>\n",
       "      <th>start_station_name</th>\n",
       "      <th>start_station_latitude</th>\n",
       "      <th>start_station_longitude</th>\n",
       "      <th>end_station_id</th>\n",
       "      <th>end_station_name</th>\n",
       "      <th>end_station_latitude</th>\n",
       "      <th>...</th>\n",
       "      <th>end_time_yearmonth</th>\n",
       "      <th>start_time_day</th>\n",
       "      <th>end_time_day</th>\n",
       "      <th>start_time_hour</th>\n",
       "      <th>end_time_hour</th>\n",
       "      <th>start_time_minutes</th>\n",
       "      <th>end_time_minutes</th>\n",
       "      <th>start_time_dow</th>\n",
       "      <th>end_time_dow</th>\n",
       "      <th>duration_grouping</th>\n",
       "    </tr>\n",
       "  </thead>\n",
       "  <tbody>\n",
       "    <tr>\n",
       "      <th>0</th>\n",
       "      <td>75284</td>\n",
       "      <td>2018-01-31 22:52:35.2390</td>\n",
       "      <td>2018-02-01 19:47:19.8240</td>\n",
       "      <td>120.0</td>\n",
       "      <td>Mission Dolores Park</td>\n",
       "      <td>37.761420</td>\n",
       "      <td>-122.426435</td>\n",
       "      <td>285.0</td>\n",
       "      <td>Webster St at O'Farrell St</td>\n",
       "      <td>37.783521</td>\n",
       "      <td>...</td>\n",
       "      <td>2018-02</td>\n",
       "      <td>31</td>\n",
       "      <td>1</td>\n",
       "      <td>22</td>\n",
       "      <td>19</td>\n",
       "      <td>52</td>\n",
       "      <td>47</td>\n",
       "      <td>Wednesday</td>\n",
       "      <td>Thursday</td>\n",
       "      <td>75300</td>\n",
       "    </tr>\n",
       "    <tr>\n",
       "      <th>1</th>\n",
       "      <td>85422</td>\n",
       "      <td>2018-01-31 16:13:34.3510</td>\n",
       "      <td>2018-02-01 15:57:17.3100</td>\n",
       "      <td>15.0</td>\n",
       "      <td>San Francisco Ferry Building (Harry Bridges Pl...</td>\n",
       "      <td>37.795392</td>\n",
       "      <td>-122.394203</td>\n",
       "      <td>15.0</td>\n",
       "      <td>San Francisco Ferry Building (Harry Bridges Pl...</td>\n",
       "      <td>37.795392</td>\n",
       "      <td>...</td>\n",
       "      <td>2018-02</td>\n",
       "      <td>31</td>\n",
       "      <td>1</td>\n",
       "      <td>16</td>\n",
       "      <td>15</td>\n",
       "      <td>13</td>\n",
       "      <td>57</td>\n",
       "      <td>Wednesday</td>\n",
       "      <td>Thursday</td>\n",
       "      <td>85500</td>\n",
       "    </tr>\n",
       "    <tr>\n",
       "      <th>2</th>\n",
       "      <td>71576</td>\n",
       "      <td>2018-01-31 14:23:55.8890</td>\n",
       "      <td>2018-02-01 10:16:52.1160</td>\n",
       "      <td>304.0</td>\n",
       "      <td>Jackson St at 5th St</td>\n",
       "      <td>37.348759</td>\n",
       "      <td>-121.894798</td>\n",
       "      <td>296.0</td>\n",
       "      <td>5th St at Virginia St</td>\n",
       "      <td>37.325998</td>\n",
       "      <td>...</td>\n",
       "      <td>2018-02</td>\n",
       "      <td>31</td>\n",
       "      <td>1</td>\n",
       "      <td>14</td>\n",
       "      <td>10</td>\n",
       "      <td>23</td>\n",
       "      <td>16</td>\n",
       "      <td>Wednesday</td>\n",
       "      <td>Thursday</td>\n",
       "      <td>71600</td>\n",
       "    </tr>\n",
       "    <tr>\n",
       "      <th>3</th>\n",
       "      <td>61076</td>\n",
       "      <td>2018-01-31 14:53:23.5620</td>\n",
       "      <td>2018-02-01 07:51:20.5000</td>\n",
       "      <td>75.0</td>\n",
       "      <td>Market St at Franklin St</td>\n",
       "      <td>37.773793</td>\n",
       "      <td>-122.421239</td>\n",
       "      <td>47.0</td>\n",
       "      <td>4th St at Harrison St</td>\n",
       "      <td>37.780955</td>\n",
       "      <td>...</td>\n",
       "      <td>2018-02</td>\n",
       "      <td>31</td>\n",
       "      <td>1</td>\n",
       "      <td>14</td>\n",
       "      <td>7</td>\n",
       "      <td>53</td>\n",
       "      <td>51</td>\n",
       "      <td>Wednesday</td>\n",
       "      <td>Thursday</td>\n",
       "      <td>61100</td>\n",
       "    </tr>\n",
       "    <tr>\n",
       "      <th>4</th>\n",
       "      <td>39966</td>\n",
       "      <td>2018-01-31 19:52:24.6670</td>\n",
       "      <td>2018-02-01 06:58:31.0530</td>\n",
       "      <td>74.0</td>\n",
       "      <td>Laguna St at Hayes St</td>\n",
       "      <td>37.776435</td>\n",
       "      <td>-122.426244</td>\n",
       "      <td>19.0</td>\n",
       "      <td>Post St at Kearny St</td>\n",
       "      <td>37.788975</td>\n",
       "      <td>...</td>\n",
       "      <td>2018-02</td>\n",
       "      <td>31</td>\n",
       "      <td>1</td>\n",
       "      <td>19</td>\n",
       "      <td>6</td>\n",
       "      <td>52</td>\n",
       "      <td>58</td>\n",
       "      <td>Wednesday</td>\n",
       "      <td>Thursday</td>\n",
       "      <td>40000</td>\n",
       "    </tr>\n",
       "  </tbody>\n",
       "</table>\n",
       "<p>5 rows × 32 columns</p>\n",
       "</div>"
      ],
      "text/plain": [
       "   duration_sec                start_time                  end_time  \\\n",
       "0         75284  2018-01-31 22:52:35.2390  2018-02-01 19:47:19.8240   \n",
       "1         85422  2018-01-31 16:13:34.3510  2018-02-01 15:57:17.3100   \n",
       "2         71576  2018-01-31 14:23:55.8890  2018-02-01 10:16:52.1160   \n",
       "3         61076  2018-01-31 14:53:23.5620  2018-02-01 07:51:20.5000   \n",
       "4         39966  2018-01-31 19:52:24.6670  2018-02-01 06:58:31.0530   \n",
       "\n",
       "   start_station_id                                 start_station_name  \\\n",
       "0             120.0                               Mission Dolores Park   \n",
       "1              15.0  San Francisco Ferry Building (Harry Bridges Pl...   \n",
       "2             304.0                               Jackson St at 5th St   \n",
       "3              75.0                           Market St at Franklin St   \n",
       "4              74.0                              Laguna St at Hayes St   \n",
       "\n",
       "   start_station_latitude  start_station_longitude  end_station_id  \\\n",
       "0               37.761420              -122.426435           285.0   \n",
       "1               37.795392              -122.394203            15.0   \n",
       "2               37.348759              -121.894798           296.0   \n",
       "3               37.773793              -122.421239            47.0   \n",
       "4               37.776435              -122.426244            19.0   \n",
       "\n",
       "                                    end_station_name  end_station_latitude  \\\n",
       "0                         Webster St at O'Farrell St             37.783521   \n",
       "1  San Francisco Ferry Building (Harry Bridges Pl...             37.795392   \n",
       "2                              5th St at Virginia St             37.325998   \n",
       "3                              4th St at Harrison St             37.780955   \n",
       "4                               Post St at Kearny St             37.788975   \n",
       "\n",
       "   ...  end_time_yearmonth  start_time_day end_time_day start_time_hour  \\\n",
       "0  ...             2018-02              31            1              22   \n",
       "1  ...             2018-02              31            1              16   \n",
       "2  ...             2018-02              31            1              14   \n",
       "3  ...             2018-02              31            1              14   \n",
       "4  ...             2018-02              31            1              19   \n",
       "\n",
       "  end_time_hour start_time_minutes end_time_minutes  start_time_dow  \\\n",
       "0            19                 52               47       Wednesday   \n",
       "1            15                 13               57       Wednesday   \n",
       "2            10                 23               16       Wednesday   \n",
       "3             7                 53               51       Wednesday   \n",
       "4             6                 52               58       Wednesday   \n",
       "\n",
       "   end_time_dow  duration_grouping  \n",
       "0      Thursday              75300  \n",
       "1      Thursday              85500  \n",
       "2      Thursday              71600  \n",
       "3      Thursday              61100  \n",
       "4      Thursday              40000  \n",
       "\n",
       "[5 rows x 32 columns]"
      ]
     },
     "execution_count": 3,
     "metadata": {},
     "output_type": "execute_result"
    }
   ],
   "source": [
    "#Read data from saved csv file\n",
    "df_bike = pd.read_csv(\"bikesharing_combined_all_data.csv\")\n",
    "\n",
    "#Quick check data\n",
    "df_bike.head()"
   ]
  },
  {
   "cell_type": "code",
   "execution_count": 4,
   "metadata": {},
   "outputs": [],
   "source": [
    "#Defaults for visualization\n",
    "sb.set_style('darkgrid')\n",
    "default_color = sb.color_palette()[0]"
   ]
  },
  {
   "cell_type": "markdown",
   "metadata": {},
   "source": [
    "### Who is using the bike services? (subscribers or casual user)"
   ]
  },
  {
   "cell_type": "markdown",
   "metadata": {},
   "source": [
    "Let us question how the rides are distributed as a percentage between the two user types."
   ]
  },
  {
   "cell_type": "code",
   "execution_count": 59,
   "metadata": {},
   "outputs": [
    {
     "data": {
      "text/plain": [
       "Subscriber    78.651314\n",
       "Customer      21.348686\n",
       "Name: user_type, dtype: float64"
      ]
     },
     "execution_count": 59,
     "metadata": {},
     "output_type": "execute_result"
    }
   ],
   "source": [
    "(df_bike.user_type.value_counts(sort=True, normalize=True)*100)\n",
    "\n",
    "# “Subscriber” = member \n",
    "# “Customer” = casual user"
   ]
  },
  {
   "cell_type": "code",
   "execution_count": 60,
   "metadata": {},
   "outputs": [
    {
     "data": {
      "image/png": "[encoded data removed]",
      "text/plain": [
       "<Figure size 1080x720 with 1 Axes>"
      ]
     },
     "metadata": {},
     "output_type": "display_data"
    }
   ],
   "source": [
    "plt.figure(figsize=[15, 10])\n",
    "(df_bike.user_type.value_counts(sort=True, normalize=True)*100).plot.bar(color = default_color)\n",
    "plt.title(\"Percentage of rides per user type\")\n",
    "plt.ylabel(\"% of rides out of all rides\")\n",
    "plt.xlabel(\"User Type\");"
   ]
  },
  {
   "cell_type": "markdown",
   "metadata": {},
   "source": [
    "The user type \"subscriber\" is responsible for over 80% of the total rides. At the moment there are different subscriber and member packages available.   \n",
    "Pricing details can be found under the following link: \n",
    "https://www.lyft.com/bikes/bay-wheels/pricing"
   ]
  },
  {
   "cell_type": "markdown",
   "metadata": {},
   "source": [
    "## Is there a change of usage over the year (e.g. winter time vs. summer time)?"
   ]
  },
  {
   "cell_type": "markdown",
   "metadata": {},
   "source": [
    "We want to check how the monthly distribution of rides over the year 2018 looks like."
   ]
  },
  {
   "cell_type": "code",
   "execution_count": 6,
   "metadata": {},
   "outputs": [
    {
     "data": {
      "text/plain": [
       "Text(0.5, 0, 'Month')"
      ]
     },
     "execution_count": 6,
     "metadata": {},
     "output_type": "execute_result"
    },
    {
     "data": {
      "image/png": "[encoded data removed]",
      "text/plain": [
       "<Figure size 1080x720 with 1 Axes>"
      ]
     },
     "metadata": {},
     "output_type": "display_data"
    }
   ],
   "source": [
    "plt.figure(figsize=[15, 10])\n",
    "sb.countplot(data=df_bike[df_bike['start_time_year']<2019], x='start_time_month',hue='start_time_year');\n",
    "plt.title('Monthly distribution of bike rides for year 2018');\n",
    "plt.ylabel('Number of rides');\n",
    "plt.xlabel('Month')"
   ]
  },
  {
   "cell_type": "markdown",
   "metadata": {},
   "source": [
    "And what about 2019?"
   ]
  },
  {
   "cell_type": "code",
   "execution_count": 16,
   "metadata": {},
   "outputs": [
    {
     "data": {
      "text/plain": [
       "Text(0.5, 0, 'Month')"
      ]
     },
     "execution_count": 16,
     "metadata": {},
     "output_type": "execute_result"
    },
    {
     "data": {
      "image/png": "[encoded data removed]",
      "text/plain": [
       "<Figure size 1080x720 with 1 Axes>"
      ]
     },
     "metadata": {},
     "output_type": "display_data"
    }
   ],
   "source": [
    "plt.figure(figsize=[15, 10])\n",
    "sb.countplot(data=df_bike[df_bike['start_time_year']==2019], x='start_time_month',hue='start_time_year');\n",
    "plt.title('Monthly distribution of bike rides for year 2019');\n",
    "plt.ylabel('Number of rides');\n",
    "plt.xlabel('Month')"
   ]
  },
  {
   "cell_type": "markdown",
   "metadata": {},
   "source": [
    "It would be exciting to merge the graph from 2018 and 2019 into one graph. Ok, we will do this in the next chapter."
   ]
  },
  {
   "cell_type": "markdown",
   "metadata": {},
   "source": [
    "## Bivariate Exploration\n",
    "\n",
    "In this section, we want to investigate the relationships between pairs of variables. We are going to explore how the length of the rides is distributed across the membership models mentioned before. "
   ]
  },
  {
   "cell_type": "markdown",
   "metadata": {},
   "source": [
    "## What is the distribution in a combined chart for 2018 and 2019?"
   ]
  },
  {
   "cell_type": "code",
   "execution_count": 62,
   "metadata": {},
   "outputs": [
    {
     "data": {
      "text/plain": [
       "Text(0.5, 0, 'Month')"
      ]
     },
     "execution_count": 62,
     "metadata": {},
     "output_type": "execute_result"
    },
    {
     "data": {
      "image/png": "[encoded data removed]",
      "text/plain": [
       "<Figure size 1080x720 with 1 Axes>"
      ]
     },
     "metadata": {},
     "output_type": "display_data"
    }
   ],
   "source": [
    "plt.figure(figsize=[15, 10])\n",
    "sb.countplot(data=df_bike[df_bike['start_time_year']<2020], x='start_time_month',hue='start_time_year');\n",
    "plt.title('Monthly distribution of bike rides');\n",
    "plt.ylabel('Number of rides');\n",
    "plt.xlabel('Month')"
   ]
  },
  {
   "cell_type": "markdown",
   "metadata": {},
   "source": [
    "Idea for further assessments: plot in the average temperature in SF per month for 2018 and 2019 as line chart. "
   ]
  },
  {
   "cell_type": "markdown",
   "metadata": {},
   "source": [
    "The graph shows that for both years `2018` and `2019`, there seems to be a different usage of the bike ride service during summer vs. winter time. \n",
    "\n",
    "Difference between `2018` and `2019`, there was more travels during Spring and Automn in the year `2019`, the peak in `2018` was from may to october without a valley during summer.\n",
    "\n",
    "`2018` has the major peak of use in July and October.  \n",
    "`2019` has the major peak of use in March, April, July and October. "
   ]
  },
  {
   "cell_type": "markdown",
   "metadata": {},
   "source": [
    "## At what day per week the ride service is used from what user type?"
   ]
  },
  {
   "cell_type": "code",
   "execution_count": 68,
   "metadata": {},
   "outputs": [
    {
     "data": {
      "text/plain": [
       "Text(0.5, 0, 'Day')"
      ]
     },
     "execution_count": 68,
     "metadata": {},
     "output_type": "execute_result"
    },
    {
     "data": {
      "image/png": "[encoded data removed]",
      "text/plain": [
       "<Figure size 1080x720 with 1 Axes>"
      ]
     },
     "metadata": {},
     "output_type": "display_data"
    }
   ],
   "source": [
    "plt.figure(figsize=[15, 10])\n",
    "sb.countplot(data=df_bike, x='start_time_dow', order=['Monday', 'Tuesday', 'Wednesday', 'Thursday', 'Friday', 'Saturday', 'Sunday'], hue='user_type');\n",
    "plt.title('Daily distribution of bike rides per user type');\n",
    "plt.ylabel('Number of rides');\n",
    "plt.xlabel('Day')"
   ]
  },
  {
   "cell_type": "markdown",
   "metadata": {},
   "source": [
    "As output from this graph it seems that the ForGoBike/ BayWheels service is mostly used by `subscribers` during workdays (Mo-Fr) rather than on the weekend (Sat and Sun).  \n",
    "`Customers` use the service more on a regular base during weekday and weekend.\n",
    "\n",
    "Is the service mostly used by `subscribers` for work and by students going from home to work/university and back?  \n",
    "And maybe `customers` are more often tourists and visitors of the SF area?\n",
    "\n",
    "Lets first have a look on the distribution per year and then make a deepdive on the questions. "
   ]
  },
  {
   "cell_type": "code",
   "execution_count": 67,
   "metadata": {},
   "outputs": [
    {
     "data": {
      "text/plain": [
       "Text(0.5, 0, 'Day')"
      ]
     },
     "execution_count": 67,
     "metadata": {},
     "output_type": "execute_result"
    },
    {
     "data": {
      "image/png": "[encoded data removed]",
      "text/plain": [
       "<Figure size 1080x720 with 1 Axes>"
      ]
     },
     "metadata": {},
     "output_type": "display_data"
    }
   ],
   "source": [
    "plt.figure(figsize=[15, 10])\n",
    "sb.countplot(data=df_bike, x='start_time_dow', order=['Monday', 'Tuesday', 'Wednesday', 'Thursday', 'Friday', 'Saturday', 'Sunday'], hue='start_time_year');\n",
    "plt.title('Daily distribution of bike rides per year');\n",
    "plt.ylabel('Number of rides');\n",
    "plt.xlabel('Day')"
   ]
  },
  {
   "cell_type": "markdown",
   "metadata": {},
   "source": [
    "In this graph we can see, that the effect stays also over the years."
   ]
  },
  {
   "cell_type": "markdown",
   "metadata": {},
   "source": [
    "## Is the service mostly used by subscribers for work and by students going from home to work/university and back?"
   ]
  },
  {
   "cell_type": "code",
   "execution_count": 70,
   "metadata": {},
   "outputs": [
    {
     "data": {
      "text/plain": [
       "Text(0.5, 0, 'Hour')"
      ]
     },
     "execution_count": 70,
     "metadata": {},
     "output_type": "execute_result"
    },
    {
     "data": {
      "image/png": "[encoded data removed]",
      "text/plain": [
       "<Figure size 1080x720 with 1 Axes>"
      ]
     },
     "metadata": {},
     "output_type": "display_data"
    }
   ],
   "source": [
    "plt.figure(figsize=[15, 10])\n",
    "sb.countplot(data=df_bike, x='start_time_hour', hue='user_type');\n",
    "plt.title('Distribution of rides over the day');\n",
    "plt.ylabel('Number of rides');\n",
    "plt.xlabel('Hour')"
   ]
  },
  {
   "cell_type": "markdown",
   "metadata": {},
   "source": [
    "The graph confirms our previously mentioned and analyzed questions and assumptions."
   ]
  },
  {
   "cell_type": "markdown",
   "metadata": {},
   "source": [
    "## What is the distribution of duration of a bike ride?\n",
    "\n",
    "In this graph we want to analyse the distribution of the duration of the bike rides."
   ]
  },
  {
   "cell_type": "code",
   "execution_count": 81,
   "metadata": {},
   "outputs": [
    {
     "data": {
      "text/plain": [
       "(1, 3000)"
      ]
     },
     "execution_count": 81,
     "metadata": {},
     "output_type": "execute_result"
    },
    {
     "data": {
      "image/png": "[encoded data removed]",
      "text/plain": [
       "<Figure size 1080x720 with 1 Axes>"
      ]
     },
     "metadata": {},
     "output_type": "display_data"
    }
   ],
   "source": [
    "plt.figure(figsize=[15, 10])\n",
    "sb.countplot(data=df_bike[df_bike['duration_sec']<=3000], x='duration_sec', edgecolor=sb.color_palette(\"dark\"));\n",
    "plt.title('Duration of rides');\n",
    "plt.ylabel('Number of rides');\n",
    "plt.xlabel('Duration (in sec)')\n",
    "ticks = np.arange(0, 3000, 120)\n",
    "plt.xticks(ticks, ticks);\n",
    "plt.xlim(1,3000)"
   ]
  },
  {
   "cell_type": "markdown",
   "metadata": {},
   "source": [
    "The graph is limited to a duration of 3000 sec. \n",
    "\n",
    "The graph shows, that most travels are between 2 minutes (120 sec) and 12 minutes (720 sec).   \n",
    "\n",
    "So the users are doing more short travels or comutes, rather than long rides with this bike ride service."
   ]
  },
  {
   "cell_type": "markdown",
   "metadata": {},
   "source": [
    "### Discuss the distribution(s) of your variable(s) of interest. Were there any unusual points? Did you need to perform any transformations?\n",
    "\n",
    "The first visualization shows that the majority of the rides >80% were done by users of the `subscriber` type.  \n",
    "\n",
    "We also found out that the service is used more on the `weekdays` than on the `weekends`. \n",
    "\n",
    "The majority of the useres are `subscribers` and riding the bike on `weekdays`starting between 7-9 a.m. and driving back between 4-6 p.m.  \n",
    "\n",
    "Most bike rides go from `2 minutes` up to `12 minutes`. \n",
    "\n",
    "### Of the features you investigated, were there any unusual distributions? Did you perform any operations on the data to tidy, adjust, or change the form of the data? If so, why did you do this?\n",
    "\n",
    "The main part at the beginning was the gathering of the data and the combination of the differnt datasets and the different years. "
   ]
  },
  {
   "cell_type": "markdown",
   "metadata": {},
   "source": [
    "## Is there a correlation between duration and user type?"
   ]
  },
  {
   "cell_type": "code",
   "execution_count": 77,
   "metadata": {},
   "outputs": [
    {
     "data": {
      "image/png": "[encoded data removed]",
      "text/plain": [
       "<Figure size 1080x720 with 1 Axes>"
      ]
     },
     "metadata": {},
     "output_type": "display_data"
    }
   ],
   "source": [
    "plt.figure(figsize=[15, 10])\n",
    "sb.boxplot(data = df_bike, x = 'user_type', y = 'duration_sec')\n",
    "plt.ylim([-10, 3000])\n",
    "plt.xlabel('User Type')\n",
    "plt.ylabel('Duration (in sec)')\n",
    "plt.show()"
   ]
  },
  {
   "cell_type": "markdown",
   "metadata": {},
   "source": [
    "### Talk about some of the relationships you observed in this part of the investigation. How did the feature(s) of interest vary with other features in the dataset?\n",
    "\n",
    "The user type has definitely an impact on the duration of a ride as we can see in the boxplot.\n",
    "\n",
    "### Did you observe any interesting relationships between the other features (not the main feature(s) of interest)?\n",
    "\n",
    "In the dataset are also a lot very long travels (>3.000 sec) with the bike available. "
   ]
  },
  {
   "cell_type": "markdown",
   "metadata": {},
   "source": [
    "## Multivariate Exploration\n",
    "\n",
    "### How is the trip duration by day of the week compared to the user type?\n",
    "\n",
    "In this graph we want to combine the graphs already shown above and analyse the duration of the ride per user type overthe weekdays with a boxplot. "
   ]
  },
  {
   "cell_type": "code",
   "execution_count": 85,
   "metadata": {},
   "outputs": [
    {
     "data": {
      "image/png": "[encoded data removed]",
      "text/plain": [
       "<Figure size 1080x720 with 1 Axes>"
      ]
     },
     "metadata": {},
     "output_type": "display_data"
    }
   ],
   "source": [
    "df_bike['duration_sec_log'] = np.log10(df_bike['duration_sec'])\n",
    "plt.figure(figsize=(15,10))\n",
    "sb.boxplot(data = df_bike, x = 'start_time_dow', y = 'duration_sec_log', hue = 'user_type')\n",
    "plt.legend(loc = 6, bbox_to_anchor = (1.0, 0.5))\n",
    "\n",
    "xticks = [0, 1, 2, 3, 4, 5, 6]\n",
    "xlabels = ['Monday','Tuesday','Wednesday','Thursday','Friday','Saturday','Sunday']\n",
    "plt.xticks(xticks, xlabels, rotation = 90)\n",
    "\n",
    "ylabels = [1, 3, 10, 30, 100, 300, 1000, 3000, 10000, 30000, 100000]\n",
    "yticks = np.log10(ylabels)\n",
    "plt.yticks(yticks, ylabels)\n",
    "plt.xlabel('Day of the week')\n",
    "plt.ylabel('Duration (in sec)')\n",
    "plt.title('Bike ride duration by user type and day', y=1.03, fontsize=14, fontweight='semibold');"
   ]
  },
  {
   "cell_type": "markdown",
   "metadata": {},
   "source": [
    "### Heatmap regarding the hourly usage during the day per user type."
   ]
  },
  {
   "cell_type": "markdown",
   "metadata": {},
   "source": [
    "During chapter Bivariate Exploration we analysed the start times of the users during the day in a bar chart.  \n",
    "In order to be able to dive deeper into the topic here, we want to present the facts somewhat expanded in a heatmap."
   ]
  },
  {
   "cell_type": "code",
   "execution_count": 101,
   "metadata": {},
   "outputs": [],
   "source": [
    "#df_bike.head()"
   ]
  },
  {
   "cell_type": "code",
   "execution_count": 105,
   "metadata": {},
   "outputs": [
    {
     "data": {
      "image/png": "[encoded data removed]",
      "text/plain": [
       "<Figure size 1080x720 with 4 Axes>"
      ]
     },
     "metadata": {
      "needs_background": "light"
     },
     "output_type": "display_data"
    }
   ],
   "source": [
    "#Set order of weekday (start_time_dow)\n",
    "df_bike['start_time_dow'] = pd.Categorical(df_bike['start_time_dow'], categories=['Monday','Tuesday','Wednesday','Thursday','Friday','Saturday','Sunday'], ordered=True)\n",
    "plt.figure(figsize=(15,10))\n",
    "plt.suptitle('Heatmap for hourly usage during the day for user type (attention: different scale per user type)', fontsize=14, fontweight='semibold')\n",
    "\n",
    "#heatmap customers\n",
    "plt.subplot(1, 2, 1)\n",
    "df_customer = df_bike.query('user_type == \"Customer\"').groupby([\"start_time_hour\", \"start_time_dow\"])[\"bike_id\"].size().reset_index()\n",
    "df_customer = df_customer.pivot(\"start_time_hour\", \"start_time_dow\", \"bike_id\")\n",
    "sb.heatmap(df_customer, cmap=\"YlGnBu\")\n",
    "\n",
    "plt.title(\"Customer\", y=1.020)\n",
    "plt.xlabel('Day')\n",
    "plt.ylabel('Start time hour')\n",
    "\n",
    "#heatmap subscribers\n",
    "plt.subplot(1, 2, 2)\n",
    "df_subscriber = df_bike.query('user_type == \"Subscriber\"').groupby([\"start_time_hour\", \"start_time_dow\"])[\"bike_id\"].size().reset_index()\n",
    "df_subscriber = df_subscriber.pivot(\"start_time_hour\", \"start_time_dow\", \"bike_id\")\n",
    "sb.heatmap(df_subscriber, cmap=\"YlGnBu\")\n",
    "\n",
    "plt.title(\"Subscriber\", y=1.020)\n",
    "plt.xlabel('Day')\n",
    "plt.ylabel('');"
   ]
  },
  {
   "cell_type": "markdown",
   "metadata": {},
   "source": [
    "### Talk about some of the relationships you observed in this part of the investigation. Were there features that strengthened each other in terms of looking at your feature(s) of interest?\n",
    "\n",
    "Each property of the boxplot was higher for user type `Customer` than for user type `Subscriber`.  \n",
    "\n",
    "In a next step, it would be important to examine the `outliers` in detail in terms of their duration.  \n",
    "\n",
    "It is also questionable why `subscribers` and `customers` have significantly fewer rides on weekends, which also have a short duration.  \n",
    "\n",
    "\n",
    "\n",
    "### Were there any interesting or surprising interactions between features?\n",
    "\n",
    "From the last chapter I realy like the headmap of the `subscriber` user type.\n",
    "\n",
    "From a business development perspective to gain more growth, we have to ask ourselves what we can do with the bikes in the timeframe from 10 a.m. up to 3 p.m. and in the timeslot 7 p.m. up to 6 a.m. to gain more profit?\n"
   ]
  },
  {
   "cell_type": "markdown",
   "metadata": {},
   "source": [
    "### Resouces used in this project: \n",
    "\n",
    "https://stackoverflow.com/questions/3451111/unzipping-files-in-python  \n",
    "https://docs.python.org/3/library/datetime.html\n",
    "https://stackoverflow.com/questions/56350531/seaborn-violinplot-experiences-difficulty-with-too-many-variables  \n",
    "https://seaborn.pydata.org/generated/seaborn.countplot.html  \n",
    "https://stackoverflow.com/questions/46173419/seaborn-change-bar-colour-according-to-hue-name\n",
    "https://seaborn.pydata.org/generated/seaborn.heatmap.html\n",
    "\n",
    "https://www.lyft.com/bikes/bay-wheels/pricing  \n",
    "https://www.lyft.com/bikes/bay-wheels/system-data    \n"
   ]
  },
  {
   "cell_type": "code",
   "execution_count": null,
   "metadata": {},
   "outputs": [],
   "source": []
  }
 ],
 "metadata": {
  "kernelspec": {
   "display_name": "Python 3",
   "language": "python",
   "name": "python3"
  },
  "language_info": {
   "codemirror_mode": {
    "name": "ipython",
    "version": 3
   },
   "file_extension": ".py",
   "mimetype": "text/x-python",
   "name": "python",
   "nbconvert_exporter": "python",
   "pygments_lexer": "ipython3",
   "version": "3.7.3"
  }
 },
 "nbformat": 4,
 "nbformat_minor": 2
}
